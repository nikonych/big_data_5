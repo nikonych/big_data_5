{
 "cells": [
  {
   "cell_type": "markdown",
   "source": [
    "<h4>Создайте свой «мешок слов», например, набор из 20-25 отзывов о чемлибо, напишите краткое пояснение к данным."
   ],
   "metadata": {
    "collapsed": false
   },
   "id": "11b771d19e790a11"
  },
  {
   "cell_type": "code",
   "execution_count": 19,
   "outputs": [],
   "source": [
    "import numpy as np\n",
    "\n",
    "# создание \"мешка слов\" из отзывов о еде\n",
    "# Первые 15 - положительные, последующие 15 - отрицательные\n",
    "reviews = [\n",
    "    \"Отличная пицца, тонкое тесто, много начинки.\",\n",
    "    \"Удивительный суп, очень насыщенный вкус.\",\n",
    "    \"Лучший бургер в городе, свежие продукты.\",\n",
    "    \"Превосходный десерт, особенно тирамису.\",\n",
    "    \"Салат был свежим и хрустящим.\",\n",
    "    \"Кофе был идеально приготовлен.\",\n",
    "    \"Сервис высокого уровня, внимательное обслуживание.\",\n",
    "    \"Очень вкусная утка с апельсиновым соусом.\",\n",
    "    \"Рыба просто тает во рту.\",\n",
    "    \"Самые лучшие суши, которые я когда-либо пробовал.\",\n",
    "    \"Замечательный выбор вин.\",\n",
    "    \"Уютное место с приятной атмосферой.\",\n",
    "    \"Порции огромные, цена оправдана.\",\n",
    "    \"Быстрое обслуживание, не пришлось ждать.\",\n",
    "    \"Великолепный шоколадный фондан.\",\n",
    "    \"Еда оказалась невкусной, разочарован.\",\n",
    "    \"Слишком шумно, не смогли насладиться ужином.\",\n",
    "    \"Официант был не внимателен и груб.\",\n",
    "    \"Долгое ожидание заказа, сервис плохой.\",\n",
    "    \"Качество еды не соответствует цене.\",\n",
    "    \"Неприятный запах в ресторане, не понравилось.\",\n",
    "    \"Еда была пересолена и жирная.\",\n",
    "    \"Неприветливый персонал, чувствовали себя некомфортно.\",\n",
    "    \"Маленькие порции, остались голодны.\",\n",
    "    \"Заказ пришел неправильный, ошибка в заказе.\",\n",
    "    \"Очень грязно, столы не были вытерты.\",\n",
    "    \"Напитки были недостаточно холодными.\",\n",
    "    \"Десерт оказался слишком сладким, не смогли его съесть.\",\n",
    "    \"Обстановка оставляет желать лучшего, старый интерьер.\",\n",
    "    \"Музыка слишком громкая, было неудобно разговаривать.\"\n",
    "]\n",
    "labels = np.array([1]*15 + [0]*15)"
   ],
   "metadata": {
    "collapsed": false,
    "ExecuteTime": {
     "end_time": "2023-12-19T17:02:05.624686608Z",
     "start_time": "2023-12-19T17:02:05.587720739Z"
    }
   },
   "id": "87af328361323a1"
  },
  {
   "cell_type": "markdown",
   "source": [
    "<h4>Из этих отзывов можно извлечь ключевые слова и выражения, такие как \"вкусный\", \"свежий\", \"идеально приготовлен\", \"уютное место\", \"быстрое обслуживание\" и т.д. Эти слова и фразы станут основой для мешка слов, который можно использовать для анализа отзывов о ресторанах, определения общих тенденций в предпочтениях клиентов и улучшения качества услуг.</h4><br><br>\n",
    "<h4>Создайте словарь стоп-слов"
   ],
   "metadata": {
    "collapsed": false
   },
   "id": "4227718b0444d5f9"
  },
  {
   "cell_type": "code",
   "execution_count": 20,
   "outputs": [
    {
     "name": "stdout",
     "output_type": "stream",
     "text": [
      "['а', 'в', 'г', 'е', 'ж', 'и', 'к', 'м', 'о', 'с', 'т', 'у', 'я', 'бы', 'во', 'вы', 'да', 'до', 'ее', 'ей', 'ею', 'её', 'же', 'за', 'из', 'им', 'их', 'ли', 'мы', 'на', 'не', 'ни', 'но', 'ну', 'нх', 'об', 'он', 'от', 'по', 'со', 'та', 'те', 'то', 'ту', 'ты', 'уж', 'без', 'был', 'вам', 'вас', 'ваш', 'вон', 'вот', 'все', 'всю', 'вся', 'всё', 'где', 'год', 'два', 'две', 'дел', 'для', 'его', 'ему', 'еще', 'ещё', 'или', 'ими', 'имя', 'как', 'кем', 'ком', 'кто', 'лет', 'мне', 'мог', 'мож', 'мои', 'мой', 'мор', 'моя', 'моё', 'над', 'нам', 'нас', 'наш', 'нее', 'ней', 'нем', 'нет', 'нею', 'неё', 'них', 'оба', 'она', 'они', 'оно', 'под', 'пор', 'при', 'про', 'раз', 'сам', 'сих', 'так', 'там', 'тем', 'тех', 'том', 'тот', 'тою', 'три', 'тут', 'уже', 'чем', 'что', 'эта', 'эти', 'это', 'эту', 'алло', 'буду', 'будь', 'бывь', 'была', 'были', 'было', 'быть', 'вами', 'ваша', 'ваше', 'ваши', 'ведь', 'весь', 'вниз', 'всем', 'всех', 'всею', 'года', 'году', 'даже', 'двух', 'день', 'если', 'есть', 'зато', 'кого', 'кому', 'куда', 'лишь', 'люди', 'мало', 'меля', 'меня', 'мимо', 'мира', 'мной', 'мною', 'мочь', 'надо', 'нами', 'наша', 'наше', 'наши', 'него', 'нему', 'ниже', 'ними', 'один', 'пока', 'пора', 'пять', 'рано', 'сама', 'сами', 'само', 'саму', 'свое', 'свои', 'свою', 'себе', 'себя', 'семь', 'стал', 'суть', 'твой', 'твоя', 'твоё', 'тебе', 'тебя', 'теми', 'того', 'тоже', 'тому', 'туда', 'хоть', 'хотя', 'чаще', 'чего', 'чему', 'чтоб', 'чуть', 'этим', 'этих', 'этой', 'этом', 'этот', 'более', 'будем', 'будет', 'будто', 'будут', 'вверх', 'вдали', 'вдруг', 'везде', 'внизу', 'время', 'всего', 'всеми', 'всему', 'всюду', 'давно', 'даром', 'долго', 'друго', 'жизнь', 'занят', 'затем', 'зачем', 'здесь', 'иметь', 'какая', 'какой', 'когда', 'кроме', 'лучше', 'между', 'менее', 'много', 'могут', 'может', 'можно', 'можхо', 'назад', 'низко', 'нужно', 'одной', 'около', 'опять', 'очень', 'перед', 'позже', 'после', 'потом', 'почти', 'пятый', 'разве', 'рядом', 'самим', 'самих', 'самой', 'самом', 'своей', 'своих', 'сеаой', 'снова', 'собой', 'собою', 'такая', 'также', 'такие', 'такое', 'такой', 'тобой', 'тобою', 'тогда', 'тысяч', 'уметь', 'часто', 'через', 'чтобы', 'шесть', 'этими', 'этого', 'этому', 'близко', 'больше', 'будете', 'будешь', 'бывает', 'важная', 'важное', 'важные', 'важный', 'вокруг', 'восемь', 'всегда', 'второй', 'далеко', 'дальше', 'девять', 'десять', 'должно', 'другая', 'другие', 'других', 'другое', 'другой', 'занята', 'занято', 'заняты', 'значит', 'именно', 'иногда', 'каждая', 'каждое', 'каждые', 'каждый', 'кругом', 'меньше', 'начала', 'нельзя', 'нибудь', 'никуда', 'ничего', 'обычно', 'однако', 'одного', 'отсюда', 'первый', 'потому', 'почему', 'просто', 'против', 'раньше', 'самими', 'самого', 'самому', 'своего', 'сейчас', 'сказал', 'совсем', 'теперь', 'только', 'третий', 'хорошо', 'хотеть', 'хочешь', 'четыре', 'шестой', 'восьмой', 'впрочем', 'времени', 'говорил', 'говорит', 'девятый', 'десятый', 'кажется', 'конечно', 'которая', 'которой', 'которые', 'который', 'которых', 'наверху', 'наконец', 'недавно', 'немного', 'нередко', 'никогда', 'однажды', 'посреди', 'сегодня', 'седьмой', 'сказала', 'сказать', 'сколько', 'слишком', 'сначала', 'спасибо', 'человек', 'двадцать', 'довольно', 'которого', 'наиболее', 'недалеко', 'особенно', 'отовсюду', 'двадцатый', 'миллионов', 'несколько', 'прекрасно', 'процентов', 'четвертый', 'двенадцать', 'непрерывно', 'пожалуйста', 'пятнадцать', 'семнадцать', 'тринадцать', 'двенадцатый', 'одиннадцать', 'пятнадцатый', 'семнадцатый', 'тринадцатый', 'шестнадцать', 'восемнадцать', 'девятнадцать', 'одиннадцатый', 'четырнадцать', 'шестнадцатый', 'восемнадцатый', 'девятнадцатый', 'действительно', 'четырнадцатый', 'многочисленная', 'многочисленное', 'многочисленные', 'многочисленный']\n"
     ]
    }
   ],
   "source": [
    "from stop_words import get_stop_words\n",
    "\n",
    "stop_words = get_stop_words('russian')\n",
    "print(stop_words)"
   ],
   "metadata": {
    "collapsed": false,
    "ExecuteTime": {
     "end_time": "2023-12-19T17:02:05.644826076Z",
     "start_time": "2023-12-19T17:02:05.596504553Z"
    }
   },
   "id": "39e9fe3ac66b6783"
  },
  {
   "cell_type": "code",
   "execution_count": 21,
   "outputs": [
    {
     "name": "stdout",
     "output_type": "stream",
     "text": [
      "Counter({'десерт': 2, 'сервис': 2, 'обслуживание': 2, 'порции': 2, 'еда': 2, 'смогли': 2, 'отличная': 1, 'пицца': 1, 'тонкое': 1, 'тесто': 1, 'начинки': 1, 'удивительный': 1, 'суп': 1, 'насыщенный': 1, 'вкус': 1, 'лучший': 1, 'бургер': 1, 'городе': 1, 'свежие': 1, 'продукты': 1, 'превосходный': 1, 'тирамису': 1, 'салат': 1, 'свежим': 1, 'хрустящим': 1, 'кофе': 1, 'идеально': 1, 'приготовлен': 1, 'высокого': 1, 'уровня': 1, 'внимательное': 1, 'вкусная': 1, 'утка': 1, 'апельсиновым': 1, 'соусом': 1, 'рыба': 1, 'тает': 1, 'рту': 1, 'самые': 1, 'лучшие': 1, 'суши': 1, 'либо': 1, 'пробовал': 1, 'замечательный': 1, 'выбор': 1, 'вин': 1, 'уютное': 1, 'место': 1, 'приятной': 1, 'атмосферой': 1, 'огромные': 1, 'цена': 1, 'оправдана': 1, 'быстрое': 1, 'пришлось': 1, 'ждать': 1, 'великолепный': 1, 'шоколадный': 1, 'фондан': 1, 'оказалась': 1, 'невкусной': 1, 'разочарован': 1, 'шумно': 1, 'насладиться': 1, 'ужином': 1, 'официант': 1, 'внимателен': 1, 'груб': 1, 'долгое': 1, 'ожидание': 1, 'заказа': 1, 'плохой': 1, 'качество': 1, 'еды': 1, 'соответствует': 1, 'цене': 1, 'неприятный': 1, 'запах': 1, 'ресторане': 1, 'понравилось': 1, 'пересолена': 1, 'жирная': 1, 'неприветливый': 1, 'персонал': 1, 'чувствовали': 1, 'некомфортно': 1, 'маленькие': 1, 'остались': 1, 'голодны': 1, 'заказ': 1, 'пришел': 1, 'неправильный': 1, 'ошибка': 1, 'заказе': 1, 'грязно': 1, 'столы': 1, 'вытерты': 1, 'напитки': 1, 'недостаточно': 1, 'холодными': 1, 'оказался': 1, 'сладким': 1, 'съесть': 1, 'обстановка': 1, 'оставляет': 1, 'желать': 1, 'лучшего': 1, 'старый': 1, 'интерьер': 1, 'музыка': 1, 'громкая': 1, 'неудобно': 1, 'разговаривать': 1})\n"
     ]
    }
   ],
   "source": [
    "from collections import Counter\n",
    "import re\n",
    "\n",
    "words = []\n",
    "for review in reviews:\n",
    "    words += [word.lower() for word in re.findall(r'\\w+', review) if word.lower() not in stop_words]\n",
    "\n",
    "frequencies = Counter(words)\n",
    "\n",
    "print(frequencies)"
   ],
   "metadata": {
    "collapsed": false,
    "ExecuteTime": {
     "end_time": "2023-12-19T17:02:05.654805435Z",
     "start_time": "2023-12-19T17:02:05.607201323Z"
    }
   },
   "id": "b4410594ac3b349f"
  },
  {
   "cell_type": "markdown",
   "source": [
    "<h4>Масштабируйте данные с помощью tf-idf"
   ],
   "metadata": {
    "collapsed": false
   },
   "id": "30e3df1d19bb822a"
  },
  {
   "cell_type": "code",
   "execution_count": 22,
   "outputs": [
    {
     "name": "stdout",
     "output_type": "stream",
     "text": [
      "Отзыв 1:\n",
      "   начинки: 0.4472\n",
      "   отличная: 0.4472\n",
      "   пицца: 0.4472\n",
      "   тесто: 0.4472\n",
      "   тонкое: 0.4472\n",
      "\n",
      "\n",
      "Отзыв 2:\n",
      "   вкус: 0.5000\n",
      "   насыщенный: 0.5000\n",
      "   суп: 0.5000\n",
      "   удивительный: 0.5000\n",
      "\n",
      "\n",
      "Отзыв 3:\n",
      "   бургер: 0.4472\n",
      "   городе: 0.4472\n",
      "   лучший: 0.4472\n",
      "   продукты: 0.4472\n",
      "   свежие: 0.4472\n",
      "\n",
      "\n",
      "Отзыв 4:\n",
      "   превосходный: 0.5982\n",
      "   тирамису: 0.5982\n",
      "   десерт: 0.5333\n",
      "\n",
      "\n",
      "Отзыв 5:\n",
      "   салат: 0.5774\n",
      "   свежим: 0.5774\n",
      "   хрустящим: 0.5774\n",
      "\n",
      "\n",
      "Отзыв 6:\n",
      "   идеально: 0.5774\n",
      "   кофе: 0.5774\n",
      "   приготовлен: 0.5774\n",
      "\n",
      "\n",
      "Отзыв 7:\n",
      "   внимательное: 0.4668\n",
      "   высокого: 0.4668\n",
      "   уровня: 0.4668\n",
      "   обслуживание: 0.4162\n",
      "   сервис: 0.4162\n",
      "\n",
      "\n",
      "Отзыв 8:\n",
      "   апельсиновым: 0.5000\n",
      "   вкусная: 0.5000\n",
      "   соусом: 0.5000\n",
      "   утка: 0.5000\n",
      "\n",
      "\n",
      "Отзыв 9:\n",
      "   рту: 0.5774\n",
      "   рыба: 0.5774\n",
      "   тает: 0.5774\n",
      "\n",
      "\n",
      "Отзыв 10:\n",
      "   либо: 0.4472\n",
      "   лучшие: 0.4472\n",
      "   пробовал: 0.4472\n",
      "   самые: 0.4472\n",
      "   суши: 0.4472\n",
      "\n",
      "\n",
      "Отзыв 11:\n",
      "   вин: 0.5774\n",
      "   выбор: 0.5774\n",
      "   замечательный: 0.5774\n",
      "\n",
      "\n",
      "Отзыв 12:\n",
      "   атмосферой: 0.5000\n",
      "   место: 0.5000\n",
      "   приятной: 0.5000\n",
      "   уютное: 0.5000\n",
      "\n",
      "\n",
      "Отзыв 13:\n",
      "   огромные: 0.5133\n",
      "   оправдана: 0.5133\n",
      "   цена: 0.5133\n",
      "   порции: 0.4577\n",
      "\n",
      "\n",
      "Отзыв 14:\n",
      "   быстрое: 0.5133\n",
      "   ждать: 0.5133\n",
      "   пришлось: 0.5133\n",
      "   обслуживание: 0.4577\n",
      "\n",
      "\n",
      "Отзыв 15:\n",
      "   великолепный: 0.5774\n",
      "   фондан: 0.5774\n",
      "   шоколадный: 0.5774\n",
      "\n",
      "\n",
      "Отзыв 16:\n",
      "   невкусной: 0.5133\n",
      "   оказалась: 0.5133\n",
      "   разочарован: 0.5133\n",
      "   еда: 0.4577\n",
      "\n",
      "\n",
      "Отзыв 17:\n",
      "   насладиться: 0.5133\n",
      "   ужином: 0.5133\n",
      "   шумно: 0.5133\n",
      "   смогли: 0.4577\n",
      "\n",
      "\n",
      "Отзыв 18:\n",
      "   внимателен: 0.5774\n",
      "   груб: 0.5774\n",
      "   официант: 0.5774\n",
      "\n",
      "\n",
      "Отзыв 19:\n",
      "   долгое: 0.4567\n",
      "   заказа: 0.4567\n",
      "   ожидание: 0.4567\n",
      "   плохой: 0.4567\n",
      "   сервис: 0.4072\n",
      "\n",
      "\n",
      "Отзыв 20:\n",
      "   еды: 0.5000\n",
      "   качество: 0.5000\n",
      "   соответствует: 0.5000\n",
      "   цене: 0.5000\n",
      "\n",
      "\n",
      "Отзыв 21:\n",
      "   запах: 0.5000\n",
      "   неприятный: 0.5000\n",
      "   понравилось: 0.5000\n",
      "   ресторане: 0.5000\n",
      "\n",
      "\n",
      "Отзыв 22:\n",
      "   жирная: 0.5982\n",
      "   пересолена: 0.5982\n",
      "   еда: 0.5333\n",
      "\n",
      "\n",
      "Отзыв 23:\n",
      "   некомфортно: 0.5000\n",
      "   неприветливый: 0.5000\n",
      "   персонал: 0.5000\n",
      "   чувствовали: 0.5000\n",
      "\n",
      "\n",
      "Отзыв 24:\n",
      "   голодны: 0.5133\n",
      "   маленькие: 0.5133\n",
      "   остались: 0.5133\n",
      "   порции: 0.4577\n",
      "\n",
      "\n",
      "Отзыв 25:\n",
      "   заказ: 0.4472\n",
      "   заказе: 0.4472\n",
      "   неправильный: 0.4472\n",
      "   ошибка: 0.4472\n",
      "   пришел: 0.4472\n",
      "\n",
      "\n",
      "Отзыв 26:\n",
      "   вытерты: 0.5774\n",
      "   грязно: 0.5774\n",
      "   столы: 0.5774\n",
      "\n",
      "\n",
      "Отзыв 27:\n",
      "   напитки: 0.5774\n",
      "   недостаточно: 0.5774\n",
      "   холодными: 0.5774\n",
      "\n",
      "\n",
      "Отзыв 28:\n",
      "   оказался: 0.4668\n",
      "   сладким: 0.4668\n",
      "   съесть: 0.4668\n",
      "   десерт: 0.4162\n",
      "   смогли: 0.4162\n",
      "\n",
      "\n",
      "Отзыв 29:\n",
      "   желать: 0.4082\n",
      "   интерьер: 0.4082\n",
      "   лучшего: 0.4082\n",
      "   обстановка: 0.4082\n",
      "   оставляет: 0.4082\n",
      "\n",
      "\n",
      "Отзыв 30:\n",
      "   громкая: 0.5000\n",
      "   музыка: 0.5000\n",
      "   неудобно: 0.5000\n",
      "   разговаривать: 0.5000\n"
     ]
    }
   ],
   "source": [
    "from sklearn.feature_extraction.text import TfidfVectorizer\n",
    "\n",
    "vectorizer = TfidfVectorizer(stop_words=stop_words)\n",
    "\n",
    "tfidf_matrix = vectorizer.fit_transform(reviews)\n",
    "\n",
    "feature_names = vectorizer.get_feature_names_out()\n",
    "for i, review in enumerate(reviews):\n",
    "    print(f\"Отзыв {i+1}:\")\n",
    "    tfidf_array = tfidf_matrix.toarray()[i]\n",
    "    \n",
    "    word_tfidf = dict(zip(feature_names, tfidf_array))\n",
    "    \n",
    "    top_words = sorted(word_tfidf.items(), key=lambda x: x[1], reverse=True)[:5]\n",
    "    \n",
    "    for word, score in top_words:\n",
    "        if score > 0:\n",
    "            print(f\"   {word}: {score:.4f}\")\n",
    "    print(\"\\n\")"
   ],
   "metadata": {
    "collapsed": false,
    "ExecuteTime": {
     "end_time": "2023-12-19T17:02:05.655458452Z",
     "start_time": "2023-12-19T17:02:05.652860422Z"
    }
   },
   "id": "df859e19a853ce89"
  },
  {
   "cell_type": "markdown",
   "source": [
    "<h4>Этот код выводит для каждого отзыва пять слов с наивысшим значением TF-IDF, что помогает понять, какие слова являются наиболее характерными для каждого отзыва."
   ],
   "metadata": {
    "collapsed": false
   },
   "id": "65bfa2f8cc80e4d7"
  },
  {
   "cell_type": "code",
   "execution_count": 28,
   "outputs": [
    {
     "name": "stdout",
     "output_type": "stream",
     "text": [
      "превосходный: 0.2902\n",
      "тирамису: 0.2902\n",
      "великолепный: 0.2708\n",
      "вин: 0.2708\n",
      "выбор: 0.2708\n",
      "замечательный: 0.2708\n",
      "рту: 0.2708\n",
      "рыба: 0.2708\n",
      "салат: 0.2708\n",
      "свежим: 0.2708\n",
      "тает: 0.2708\n",
      "фондан: 0.2708\n",
      "хрустящим: 0.2708\n",
      "шоколадный: 0.2708\n",
      "огромные: 0.2487\n",
      "оправдана: 0.2487\n",
      "цена: 0.2487\n",
      "атмосферой: 0.2345\n",
      "вкус: 0.2345\n",
      "место: 0.2345\n",
      "насыщенный: 0.2345\n",
      "приятной: 0.2345\n",
      "суп: 0.2345\n",
      "удивительный: 0.2345\n",
      "уютное: 0.2345\n",
      "либо: 0.2097\n",
      "лучшие: 0.2097\n",
      "начинки: 0.2097\n",
      "отличная: 0.2097\n",
      "пицца: 0.2097\n",
      "пробовал: 0.2097\n",
      "самые: 0.2097\n",
      "суши: 0.2097\n",
      "тесто: 0.2097\n",
      "тонкое: 0.2097\n",
      "десерт: 0.1142\n",
      "порции: 0.0588\n",
      "желать: -0.1372\n",
      "интерьер: -0.1372\n",
      "лучшего: -0.1372\n",
      "обстановка: -0.1372\n",
      "оставляет: -0.1372\n",
      "старый: -0.1372\n",
      "долгое: -0.1503\n",
      "заказ: -0.1503\n",
      "заказа: -0.1503\n",
      "заказе: -0.1503\n",
      "неправильный: -0.1503\n",
      "ожидание: -0.1503\n",
      "ошибка: -0.1503\n",
      "плохой: -0.1503\n",
      "пришел: -0.1503\n",
      "сервис: -0.1503\n",
      "оказался: -0.1611\n",
      "сладким: -0.1611\n",
      "съесть: -0.1611\n",
      "насладиться: -0.1667\n",
      "ужином: -0.1667\n",
      "шумно: -0.1667\n",
      "громкая: -0.1680\n",
      "еда: -0.1680\n",
      "еды: -0.1680\n",
      "запах: -0.1680\n",
      "качество: -0.1680\n",
      "музыка: -0.1680\n",
      "невкусной: -0.1680\n",
      "некомфортно: -0.1680\n",
      "неприветливый: -0.1680\n",
      "неприятный: -0.1680\n",
      "неудобно: -0.1680\n",
      "оказалась: -0.1680\n",
      "персонал: -0.1680\n",
      "понравилось: -0.1680\n",
      "разговаривать: -0.1680\n",
      "разочарован: -0.1680\n",
      "ресторане: -0.1680\n",
      "соответствует: -0.1680\n",
      "цене: -0.1680\n",
      "чувствовали: -0.1680\n",
      "голодны: -0.1823\n",
      "маленькие: -0.1823\n",
      "остались: -0.1823\n",
      "внимателен: -0.1940\n",
      "вытерты: -0.1940\n",
      "груб: -0.1940\n",
      "грязно: -0.1940\n",
      "напитки: -0.1940\n",
      "недостаточно: -0.1940\n",
      "официант: -0.1940\n",
      "столы: -0.1940\n",
      "холодными: -0.1940\n",
      "смогли: -0.2902\n"
     ]
    }
   ],
   "source": [
    "from sklearn.model_selection import train_test_split\n",
    "from sklearn.linear_model import LogisticRegression\n",
    "\n",
    "X_train, X_test, y_train, y_test = train_test_split(reviews, labels, test_size=0.2)\n",
    "\n",
    "vectorizer = TfidfVectorizer(stop_words=stop_words)\n",
    "X_train_tfidf = vectorizer.fit_transform(X_train)\n",
    "X_test_tfidf = vectorizer.transform(X_test)\n",
    "\n",
    "model = LogisticRegression()\n",
    "model.fit(X_train_tfidf, y_train)\n",
    "\n",
    "feature_names = vectorizer.get_feature_names_out()\n",
    "coefficients = model.coef_[0]\n",
    "\n",
    "for word, coef in sorted(zip(feature_names, coefficients), key=lambda x: x[1], reverse=True):\n",
    "    print(f\"{word}: {coef:.4f}\")"
   ],
   "metadata": {
    "collapsed": false,
    "ExecuteTime": {
     "end_time": "2023-12-19T17:03:38.935575715Z",
     "start_time": "2023-12-19T17:03:38.891687027Z"
    }
   },
   "id": "4b819976609e9bb4"
  },
  {
   "cell_type": "code",
   "execution_count": 27,
   "outputs": [
    {
     "data": {
      "text/plain": "<Figure size 640x480 with 1 Axes>",
      "image/png": "[encoded data removed]"
     },
     "metadata": {},
     "output_type": "display_data"
    }
   ],
   "source": [
    "from matplotlib import pyplot as plt\n",
    "from sklearn.manifold import TSNE\n",
    "\n",
    "vectorizer = TfidfVectorizer()\n",
    "X = vectorizer.fit_transform(reviews)\n",
    "\n",
    "tsne = TSNE(n_components=2, random_state=0, perplexity=10)\n",
    "X_2d = tsne.fit_transform(X.toarray())\n",
    "\n",
    "for label, color in zip([0, 1], ['red', 'blue']):\n",
    "    plt.scatter(X_2d[labels == label, 0], X_2d[labels == label, 1], c=color, label=str(label))\n",
    "\n",
    "plt.title(\"t-SNE visualization of Reviews\")\n",
    "plt.xlabel(\"t-SNE feature 1\")\n",
    "plt.ylabel(\"t-SNE feature 2\")\n",
    "plt.legend(['Negative', 'Positive'])\n",
    "plt.show()"
   ],
   "metadata": {
    "collapsed": false,
    "ExecuteTime": {
     "end_time": "2023-12-19T17:02:28.650234892Z",
     "start_time": "2023-12-19T17:02:28.330375290Z"
    }
   },
   "id": "f65582e6b50718a5"
  },
  {
   "cell_type": "markdown",
   "source": [
    " <h4>Выводы по работе."
   ],
   "metadata": {
    "collapsed": false
   },
   "id": "ee4617b8da85fbb4"
  },
  {
   "cell_type": "markdown",
   "source": [
    "<h4>Анализ коэффициентов, полученных из модели, обученной на отзывах о ресторанах, дает нам представление о том, какие слова и фразы влияют на классификацию отзывов как положительных или отрицательных.\n",
    "\n",
    "<h4>Положительные слова и фразы, такие как \"превосходный\", \"тирамису\", \"великолепный\", \"вин\", \"выбор\", \"замечательный\", \"рыба\", \"салат\", указывают на высокое качество еды и услуг. Они имеют высокие положительные коэффициенты, что означает, что их присутствие в отзыве сильно связано с положительной оценкой.\n",
    "\n",
    "<h4> слова и фразы, такие как \"неприветливый персонал\", \"долгое ожидание\", \"некомфортно\", \"разочарован\", \"невкусной еда\", \"плохой сервис\", \"грязно\", имеют высокие отрицательные коэффициенты. Это указывает на то, что эти аспекты, когда упоминаются в отзывах, сильно связаны с отрицательной оценкой.\n",
    "\n",
    "<h4>Слова с низкими положительными или отрицательными коэффициентами, такие как \"десерт\", \"порции\", \"маленькие\", \"голодны\", могут играть менее значимую роль в общем восприятии отзыва.\n",
    "\n",
    "<h3>Ключевые аспекты положительных отзывов: Качество еды и напитков, а также общая атмосфера и сервис. Слова, относящиеся к особым блюдам или высокому качеству обслуживания, имеют сильное положительное влияние.\n",
    "\n",
    "<h3>Ключевые аспекты отрицательных отзывов: Проблемы с сервисом, качеством еды и общим впечатлением о ресторане. Отрицательные отзывы часто касаются плохого обслуживания, недовольства едой и некомфортной обстановки."
   ],
   "metadata": {
    "collapsed": false
   },
   "id": "74bc9e5664b657c1"
  },
  {
   "cell_type": "code",
   "execution_count": null,
   "outputs": [],
   "source": [],
   "metadata": {
    "collapsed": false
   },
   "id": "e3d576641a0f132d"
  }
 ],
 "metadata": {
  "kernelspec": {
   "display_name": "Python 3",
   "language": "python",
   "name": "python3"
  },
  "language_info": {
   "codemirror_mode": {
    "name": "ipython",
    "version": 2
   },
   "file_extension": ".py",
   "mimetype": "text/x-python",
   "name": "python",
   "nbconvert_exporter": "python",
   "pygments_lexer": "ipython2",
   "version": "2.7.6"
  }
 },
 "nbformat": 4,
 "nbformat_minor": 5
}
